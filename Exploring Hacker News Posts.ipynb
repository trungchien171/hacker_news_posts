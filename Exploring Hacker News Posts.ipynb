{
 "cells": [
  {
   "cell_type": "markdown",
   "id": "dace8bfc",
   "metadata": {},
   "source": [
    "# EXPLORING HACKER NEWS POSTS"
   ]
  },
  {
   "cell_type": "markdown",
   "id": "2556c7f2",
   "metadata": {},
   "source": [
    "In this project, we'll work with a dataset of submissions to popular technology site [Hacker News](https://news.ycombinator.com/)."
   ]
  },
  {
   "cell_type": "markdown",
   "id": "0b3f04c6",
   "metadata": {},
   "source": [
    "Hacker News is a site started by the startup incubator Y Combinator, where user-submitted stories (known as \"posts\") receive votes and comments, similar to reddit. Hacker News is extremely popular in technology and startup circles, and posts that make it to the top of the Hacker News listings can get hundreds of thousands of visitors as a result."
   ]
  },
  {
   "cell_type": "markdown",
   "id": "488008e9",
   "metadata": {},
   "source": [
    "Some posts can easily attract a lot of views, and comments. In this study we will explore aspects that impact the amount of comments for a post."
   ]
  },
  {
   "cell_type": "markdown",
   "id": "2ea19f16",
   "metadata": {},
   "source": [
    "*Post title*: when creating posts, users can - optionally - add Ask HN or Show HN to the title of the post. They do so to explicitly 'ask' or 'show' something to the Hacker News community. We'll analyze whether posts with these tags receive more comments on average."
   ]
  },
  {
   "cell_type": "markdown",
   "id": "462141ca",
   "metadata": {},
   "source": [
    "*Post timing*: also, we will explore whether posts published at certain times receive more comments on average."
   ]
  },
  {
   "cell_type": "markdown",
   "id": "c34f8cab",
   "metadata": {},
   "source": [
    "## About The Dataset"
   ]
  },
  {
   "cell_type": "markdown",
   "id": "9fc15bbe",
   "metadata": {},
   "source": [
    "You can find the data set [here](https://www.kaggle.com/datasets/hacker-news/hacker-news-posts), but note that we have reduced from almost 300,000 rows to approximately 20,000 rows by removing all submissions that didn't receive any comments and then randomly sampling from the remaining submissions. You can download this adjusted data [here](https://app.dataquest.io/m/356/guided-project%3A-exploring-hacker-news-posts/1/introduction)."
   ]
  },
  {
   "cell_type": "markdown",
   "id": "91c80cec",
   "metadata": {},
   "source": [
    "Let's start with reading the dataset and display the first five rows."
   ]
  },
  {
   "cell_type": "code",
   "execution_count": 1,
   "id": "2f4dadc5",
   "metadata": {},
   "outputs": [
    {
     "name": "stdout",
     "output_type": "stream",
     "text": [
      "['id', 'title', 'url', 'num_points', 'num_comments', 'author', 'created_at'] \n",
      "\n",
      "['12224879', 'Interactive Dynamic Video', 'http://www.interactivedynamicvideo.com/', '386', '52', 'ne0phyte', '8/4/2016 11:52'] \n",
      "\n",
      "['10975351', 'How to Use Open Source and Shut the Fuck Up at the Same Time', 'http://hueniverse.com/2016/01/26/how-to-use-open-source-and-shut-the-fuck-up-at-the-same-time/', '39', '10', 'josep2', '1/26/2016 19:30'] \n",
      "\n",
      "['11964716', \"Florida DJs May Face Felony for April Fools' Water Joke\", 'http://www.thewire.com/entertainment/2013/04/florida-djs-april-fools-water-joke/63798/', '2', '1', 'vezycash', '6/23/2016 22:20'] \n",
      "\n"
     ]
    }
   ],
   "source": [
    "from csv import reader \n",
    "opened_file = open('hacker_news.csv')\n",
    "read_file = reader(opened_file)\n",
    "hn = list(read_file)\n",
    "\n",
    "for row in hn[:4]:\n",
    "    print(row, '\\n')"
   ]
  },
  {
   "cell_type": "markdown",
   "id": "ae773d81",
   "metadata": {},
   "source": [
    "##  Removing Headers From A List Of Lists"
   ]
  },
  {
   "cell_type": "markdown",
   "id": "815da3a2",
   "metadata": {},
   "source": [
    "The first list in the above lists contains the column headers, and the lists after contain the data for one row. In order to analyze our data, we need to first remove the row containing the column headers. Let's remove that first row next."
   ]
  },
  {
   "cell_type": "code",
   "execution_count": 2,
   "id": "cc8edd99",
   "metadata": {},
   "outputs": [
    {
     "name": "stdout",
     "output_type": "stream",
     "text": [
      "Number of records before removing the headers:  20101\n",
      "Number of records after removing the headers:  20100\n"
     ]
    }
   ],
   "source": [
    "headers = hn[0]\n",
    "print('Number of records before removing the headers: ', len(hn))\n",
    "hn = hn[1:]\n",
    "print('Number of records after removing the headers: ', len(hn))"
   ]
  },
  {
   "cell_type": "markdown",
   "id": "65267f7f",
   "metadata": {},
   "source": [
    "Now, display the first five rows to verify that you removed the header row properly."
   ]
  },
  {
   "cell_type": "code",
   "execution_count": 3,
   "id": "5d10656f",
   "metadata": {},
   "outputs": [
    {
     "name": "stdout",
     "output_type": "stream",
     "text": [
      "['12224879', 'Interactive Dynamic Video', 'http://www.interactivedynamicvideo.com/', '386', '52', 'ne0phyte', '8/4/2016 11:52'] \n",
      "\n",
      "['10975351', 'How to Use Open Source and Shut the Fuck Up at the Same Time', 'http://hueniverse.com/2016/01/26/how-to-use-open-source-and-shut-the-fuck-up-at-the-same-time/', '39', '10', 'josep2', '1/26/2016 19:30'] \n",
      "\n",
      "['11964716', \"Florida DJs May Face Felony for April Fools' Water Joke\", 'http://www.thewire.com/entertainment/2013/04/florida-djs-april-fools-water-joke/63798/', '2', '1', 'vezycash', '6/23/2016 22:20'] \n",
      "\n",
      "['11919867', 'Technology ventures: From Idea to Enterprise', 'https://www.amazon.com/Technology-Ventures-Enterprise-Thomas-Byers/dp/0073523429', '3', '1', 'hswarna', '6/17/2016 0:01'] \n",
      "\n",
      "['10301696', 'Note by Note: The Making of Steinway L1037 (2007)', 'http://www.nytimes.com/2007/11/07/movies/07stein.html?_r=0', '8', '2', 'walterbell', '9/30/2015 4:12'] \n",
      "\n"
     ]
    }
   ],
   "source": [
    "for row in hn[:5]:\n",
    "    print(row, '\\n')"
   ]
  },
  {
   "cell_type": "markdown",
   "id": "10afe081",
   "metadata": {},
   "source": [
    "## Extracting Ask HN and Show HN Posts"
   ]
  },
  {
   "cell_type": "markdown",
   "id": "34737d82",
   "metadata": {},
   "source": [
    "Now that we've removed the headers from hn, we're ready to filter our data. Since we're only concerned with post titles beginning with `Ask HN` or `Show HN`, we'll create new lists of lists containing just the data for those titles."
   ]
  },
  {
   "cell_type": "markdown",
   "id": "859b55e1",
   "metadata": {},
   "source": [
    "To find the posts that begin with either Ask HN or Show HN, we'll use the string method `startswith`."
   ]
  },
  {
   "cell_type": "markdown",
   "id": "5473f3ff",
   "metadata": {},
   "source": [
    "Let's split the data into three new lists:\n",
    "* `ask_posts` (the one who posted added 'ask hn' or similar)\n",
    "* `show_posts` (the one who posted added 'show hn' or similar)\n",
    "* `other_posts` (the remainder)"
   ]
  },
  {
   "cell_type": "code",
   "execution_count": 4,
   "id": "e5872d4b",
   "metadata": {},
   "outputs": [
    {
     "name": "stdout",
     "output_type": "stream",
     "text": [
      "Number of posts in the hn list is  20100\n",
      "Number of posts in the ask_posts list is  1744\n",
      "Number of posts in the show_posts list is  1162\n",
      "Number of posts in the other_posts list is  17194\n",
      "The sum of the new three lists is  20100\n"
     ]
    }
   ],
   "source": [
    "ask_posts = []\n",
    "show_posts = []\n",
    "other_posts = []\n",
    "\n",
    "for row in hn:\n",
    "    title = row[1]\n",
    "    if title.lower().startswith('ask hn'):\n",
    "        ask_posts.append(row)\n",
    "    elif title.lower().startswith('show hn'):\n",
    "        show_posts.append(row)\n",
    "    else:\n",
    "        other_posts.append(row)\n",
    "        \n",
    "# Check the number of posts in the three lists\n",
    "\n",
    "print(\"Number of posts in the hn list is \",len(hn))\n",
    "print(\"Number of posts in the ask_posts list is \",len(ask_posts))\n",
    "print(\"Number of posts in the show_posts list is \",len(show_posts))\n",
    "print(\"Number of posts in the other_posts list is \",len(other_posts))\n",
    "\n",
    "# Check whether the sum of the new three lists is equal to the original list\n",
    "print(\"The sum of the new three lists is \",len(ask_posts)+len(show_posts)+len(other_posts))"
   ]
  },
  {
   "cell_type": "markdown",
   "id": "562e47fc",
   "metadata": {},
   "source": [
    "## Calculating The Average Number Of Comments For Ask HN And Show HN Posts"
   ]
  },
  {
   "cell_type": "markdown",
   "id": "a44a3d9f",
   "metadata": {},
   "source": [
    "We separated the \"ask posts\" and the \"show posts\" into two lists of lists named ask_posts and show_posts. Below are the first five rows in the ask_posts list of lists:"
   ]
  },
  {
   "cell_type": "code",
   "execution_count": 5,
   "id": "6d6180f9",
   "metadata": {},
   "outputs": [
    {
     "name": "stdout",
     "output_type": "stream",
     "text": [
      "['12296411', 'Ask HN: How to improve my personal website?', '', '2', '6', 'ahmedbaracat', '8/16/2016 9:55'] \n",
      "\n",
      "['10610020', 'Ask HN: Am I the only one outraged by Twitter shutting down share counts?', '', '28', '29', 'tkfx', '11/22/2015 13:43'] \n",
      "\n",
      "['11610310', 'Ask HN: Aby recent changes to CSS that broke mobile?', '', '1', '1', 'polskibus', '5/2/2016 10:14'] \n",
      "\n",
      "['12210105', 'Ask HN: Looking for Employee #3 How do I do it?', '', '1', '3', 'sph130', '8/2/2016 14:20'] \n",
      "\n",
      "['10394168', 'Ask HN: Someone offered to buy my browser extension from me. What now?', '', '28', '17', 'roykolak', '10/15/2015 16:38'] \n",
      "\n"
     ]
    }
   ],
   "source": [
    "for row in ask_posts[:5]:\n",
    "    print(row, '\\n')"
   ]
  },
  {
   "cell_type": "markdown",
   "id": "6fcaa5cb",
   "metadata": {},
   "source": [
    "Here are the first five rows in the show_posts list of lists:"
   ]
  },
  {
   "cell_type": "code",
   "execution_count": 6,
   "id": "50f58b1d",
   "metadata": {},
   "outputs": [
    {
     "name": "stdout",
     "output_type": "stream",
     "text": [
      "['10627194', 'Show HN: Wio Link  ESP8266 Based Web of Things Hardware Development Platform', 'https://iot.seeed.cc', '26', '22', 'kfihihc', '11/25/2015 14:03'] \n",
      "\n",
      "['10646440', 'Show HN: Something pointless I made', 'http://dn.ht/picklecat/', '747', '102', 'dhotson', '11/29/2015 22:46'] \n",
      "\n",
      "['11590768', 'Show HN: Shanhu.io, a programming playground powered by e8vm', 'https://shanhu.io', '1', '1', 'h8liu', '4/28/2016 18:05'] \n",
      "\n",
      "['12178806', 'Show HN: Webscope  Easy way for web developers to communicate with Clients', 'http://webscopeapp.com', '3', '3', 'fastbrick', '7/28/2016 7:11'] \n",
      "\n",
      "['10872799', 'Show HN: GeoScreenshot  Easily test Geo-IP based web pages', 'https://www.geoscreenshot.com/', '1', '9', 'kpsychwave', '1/9/2016 20:45'] \n",
      "\n"
     ]
    }
   ],
   "source": [
    "for row in show_posts[:5]:\n",
    "    print(row, '\\n')"
   ]
  },
  {
   "cell_type": "markdown",
   "id": "9e88ecbb",
   "metadata": {},
   "source": [
    "Now, let's determine if ask posts or show posts receive more comments on average."
   ]
  },
  {
   "cell_type": "code",
   "execution_count": 7,
   "id": "1aab4346",
   "metadata": {},
   "outputs": [
    {
     "name": "stdout",
     "output_type": "stream",
     "text": [
      "The average number of comments for \"ask posts\" is 14.04 \n",
      "The average number of comments for \"show posts\" is 10.32 \n"
     ]
    }
   ],
   "source": [
    "total_ask_comments = 0\n",
    "\n",
    "for row in ask_posts:\n",
    "    post = int(row[4])\n",
    "    total_ask_comments += post\n",
    "avg_ask_comments = total_ask_comments/len(ask_posts)\n",
    "print('The average number of comments for \"ask posts\" is {:.2f} '.format(avg_ask_comments))\n",
    "\n",
    "total_show_comments = 0\n",
    "for row in show_posts:\n",
    "    post = int(row[4])\n",
    "    total_show_comments += post\n",
    "avg_show_comments = total_show_comments/len(show_posts)\n",
    "print('The average number of comments for \"show posts\" is {:.2f} '.format(avg_show_comments))"
   ]
  },
  {
   "cell_type": "markdown",
   "id": "41d19ed4",
   "metadata": {},
   "source": [
    "It appears that 'ask' posts receive more comments on average than 'show' posts."
   ]
  },
  {
   "cell_type": "markdown",
   "id": "62cebb10",
   "metadata": {},
   "source": [
    "Since ask posts are more likely to receive comments, we'll focus our remaining analysis just on these posts."
   ]
  },
  {
   "cell_type": "markdown",
   "id": "3d9b7224",
   "metadata": {},
   "source": [
    "Next, we'll determine if ask posts created at a certain time are more likely to attract comments. We'll use the following steps to perform this analysis:\n",
    "1. Calculate the number of ask posts created in each hour of the day, along with the number of comments received.\n",
    "2. Calculate the average number of comments ask posts receive by hour created."
   ]
  },
  {
   "cell_type": "markdown",
   "id": "487c8b18",
   "metadata": {},
   "source": [
    "We'll work on the first step — calculating the number of ask posts and comments by hour created."
   ]
  },
  {
   "cell_type": "markdown",
   "id": "c34a4697",
   "metadata": {},
   "source": [
    "## Finding The Number Of Ask Posts And Comments By Hour Created"
   ]
  },
  {
   "cell_type": "code",
   "execution_count": 11,
   "id": "5fc49228",
   "metadata": {},
   "outputs": [
    {
     "name": "stdout",
     "output_type": "stream",
     "text": [
      "{9: 45, 13: 85, 10: 59, 14: 107, 16: 108, 23: 68, 12: 73, 17: 100, 15: 116, 21: 109, 20: 80, 2: 58, 18: 109, 3: 54, 5: 46, 19: 110, 1: 60, 22: 71, 8: 48, 4: 47, 0: 55, 6: 44, 7: 34, 11: 58}\n",
      "\n",
      "\n",
      "{9: 251, 13: 1253, 10: 793, 14: 1416, 16: 1814, 23: 543, 12: 687, 17: 1146, 15: 4477, 21: 1745, 20: 1722, 2: 1381, 18: 1439, 3: 421, 5: 464, 19: 1188, 1: 683, 22: 479, 8: 492, 4: 337, 0: 447, 6: 397, 7: 267, 11: 641}\n"
     ]
    }
   ],
   "source": [
    "import datetime as dt\n",
    "\n",
    "result_list = []\n",
    "for row in ask_posts:\n",
    "    created_at = row[6]\n",
    "    comments_num = int(row[4])\n",
    "    result_list.append([created_at, comments_num])\n",
    "    \n",
    "# Build frequency tables for the number of posts and for the number of comments, per hour of the day\n",
    "counts_by_hour = {}\n",
    "comments_by_hour = {}\n",
    "for row in result_list:\n",
    "    created_at = dt.datetime.strptime(row[0], '%m/%d/%Y %H:%M')\n",
    "    hour = created_at.hour\n",
    "    if hour not in counts_by_hour:\n",
    "        counts_by_hour[hour] = 1\n",
    "        comments_by_hour[hour] = row[1]\n",
    "    else:\n",
    "        counts_by_hour[hour] += 1\n",
    "        comments_by_hour[hour] += row[1]\n",
    "        \n",
    "print(counts_by_hour)\n",
    "print('\\n')\n",
    "print(comments_by_hour)"
   ]
  },
  {
   "cell_type": "markdown",
   "id": "c4dd06dc",
   "metadata": {},
   "source": [
    "Next, we'll use these two dictionaries to calculate the average number of comments for posts created during each hour of the day."
   ]
  },
  {
   "cell_type": "markdown",
   "id": "a501921f",
   "metadata": {},
   "source": [
    "## Calculating The Average Number Of Comments For Ask HN Posts By Hour"
   ]
  },
  {
   "cell_type": "code",
   "execution_count": 14,
   "id": "88f07444",
   "metadata": {},
   "outputs": [
    {
     "name": "stdout",
     "output_type": "stream",
     "text": [
      "For hour 00 the average number of comments per post is 8.13\n",
      "For hour 01 the average number of comments per post is 11.38\n",
      "For hour 02 the average number of comments per post is 23.81\n",
      "For hour 03 the average number of comments per post is 7.80\n",
      "For hour 04 the average number of comments per post is 7.17\n",
      "For hour 05 the average number of comments per post is 10.09\n",
      "For hour 06 the average number of comments per post is 9.02\n",
      "For hour 07 the average number of comments per post is 7.85\n",
      "For hour 08 the average number of comments per post is 10.25\n",
      "For hour 09 the average number of comments per post is 5.58\n",
      "For hour 10 the average number of comments per post is 13.44\n",
      "For hour 11 the average number of comments per post is 11.05\n",
      "For hour 12 the average number of comments per post is 9.41\n",
      "For hour 13 the average number of comments per post is 14.74\n",
      "For hour 14 the average number of comments per post is 13.23\n",
      "For hour 15 the average number of comments per post is 38.59\n",
      "For hour 16 the average number of comments per post is 16.80\n",
      "For hour 17 the average number of comments per post is 11.46\n",
      "For hour 18 the average number of comments per post is 13.20\n",
      "For hour 19 the average number of comments per post is 10.80\n",
      "For hour 20 the average number of comments per post is 21.52\n",
      "For hour 21 the average number of comments per post is 16.01\n",
      "For hour 22 the average number of comments per post is 6.75\n",
      "For hour 23 the average number of comments per post is 7.99\n"
     ]
    }
   ],
   "source": [
    "avg_by_hour = []\n",
    "for hour in counts_by_hour:\n",
    "    num_posts = counts_by_hour[hour]\n",
    "    num_comments = comments_by_hour[hour]\n",
    "    avg = round((num_comments/num_posts),2)\n",
    "    avg_by_hour.append([hour, avg])\n",
    "    \n",
    "# Sort the list (on its first element, being the hour of day)\n",
    "avg_by_hour.sort()    \n",
    "    \n",
    "# Print the result\n",
    "output = \"For hour {:02d} the average number of comments per post is {:.2f}\"\n",
    "for row in avg_by_hour:\n",
    "    print (output.format(row[0], row[1])) "
   ]
  },
  {
   "cell_type": "markdown",
   "id": "9946a905",
   "metadata": {},
   "source": [
    "Let's finish by sorting the list of lists and printing the five highest values in a format that's easier to read."
   ]
  },
  {
   "cell_type": "markdown",
   "id": "65973503",
   "metadata": {},
   "source": [
    "## Sorting And Printing Values From A List Of Lists"
   ]
  },
  {
   "cell_type": "code",
   "execution_count": 15,
   "id": "112c86fd",
   "metadata": {},
   "outputs": [
    {
     "name": "stdout",
     "output_type": "stream",
     "text": [
      "Top 5 Hours for Ask Posts Comments \n",
      "\n",
      "15:00: 38.59 average comments per post\n",
      "02:00: 23.81 average comments per post\n",
      "20:00: 21.52 average comments per post\n",
      "16:00: 16.80 average comments per post\n",
      "21:00: 16.01 average comments per post\n"
     ]
    }
   ],
   "source": [
    "# Create a list that is sorted on the average number of comments instead\n",
    "swap_avg_by_hour = []\n",
    "for row in avg_by_hour:\n",
    "    swap_avg_by_hour.append([row[1],row[0]])\n",
    "\n",
    "# Created a sorted version of this list\n",
    "sorted_swap = sorted (swap_avg_by_hour, reverse = True)\n",
    "\n",
    "# Display the results\n",
    "print ('Top 5 Hours for Ask Posts Comments', '\\n')\n",
    "output = \"{}: {:.2f} average comments per post\"\n",
    "for row in sorted_swap[:5]:\n",
    "    thetime = dt.datetime.strptime(str(row[1]), '%H')\n",
    "    thetime = thetime.strftime('%H:%M')\n",
    "    print (output.format(thetime,row[0]))"
   ]
  },
  {
   "cell_type": "markdown",
   "id": "6eb29214",
   "metadata": {},
   "source": [
    "Therefore, those time periods mentioned are the most optimal for posting if your goal is to generate comments. It is intriguing to note that the five highest-activity hours are spread throughout the day, suggesting the possibility that commenters reside in various time zones. Consequently, these diverse hours might correspond to peak times in different regions worldwide. However, this hypothesis would need additional investigation to be confirmed."
   ]
  },
  {
   "cell_type": "markdown",
   "id": "dedd23c1",
   "metadata": {},
   "source": [
    "Note that the times above are for the US Eastern Time. (As per the [dataset documentation](https://www.kaggle.com/datasets/hacker-news/hacker-news-posts).)"
   ]
  },
  {
   "cell_type": "markdown",
   "id": "204c2db7",
   "metadata": {},
   "source": [
    "For our time zone (Vietnam time zone), you'll need to add 10 hours to that."
   ]
  },
  {
   "cell_type": "markdown",
   "id": "cd89d9cf",
   "metadata": {},
   "source": [
    "## Conclusion"
   ]
  },
  {
   "cell_type": "markdown",
   "id": "f3dacb9b",
   "metadata": {},
   "source": [
    "Refering back to the goal of this study, let's summarize the conclusions.\n",
    "\n",
    "*Post title*: when creating posts, adding Ask HN to your post title will do better for attracting comments than adding `Show HN`:\n",
    "\n",
    "`Ask HN`: 14.04 average comments per post\n",
    "`Show HN`: 10.32 average comments per post\n",
    "\n",
    "(It has not been compared with posts for not adding a tag at all.)\n",
    "\n",
    "*Post timing*: the time of day of posting appears to have significant impact on the number of comments that you will attract. Based on an analysis of the *Ask HN posts*, the top hours (in Vietnam time zone) are:\n",
    "\n",
    "* 01:00 - 02:00: 38.59 average comments per post\n",
    "* 18:00 - 19:00: 23.81 average comments per post\n",
    "* 12:00 - 13:00: 21.52 average comments per post"
   ]
  }
 ],
 "metadata": {
  "kernelspec": {
   "display_name": "Python 3 (ipykernel)",
   "language": "python",
   "name": "python3"
  },
  "language_info": {
   "codemirror_mode": {
    "name": "ipython",
    "version": 3
   },
   "file_extension": ".py",
   "mimetype": "text/x-python",
   "name": "python",
   "nbconvert_exporter": "python",
   "pygments_lexer": "ipython3",
   "version": "3.10.11"
  }
 },
 "nbformat": 4,
 "nbformat_minor": 5
}
